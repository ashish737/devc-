{
  "nbformat": 4,
  "nbformat_minor": 0,
  "metadata": {
    "colab": {
      "name": "06-12-2019",
      "provenance": [],
      "include_colab_link": true
    },
    "kernelspec": {
      "name": "python3",
      "display_name": "Python 3"
    }
  },
  "cells": [
    {
      "cell_type": "markdown",
      "metadata": {
        "id": "view-in-github",
        "colab_type": "text"
      },
      "source": [
        "<a href=\"https://colab.research.google.com/github/ashish737/devc-/blob/master/06_12_2019.ipynb\" target=\"_parent\"><img src=\"https://colab.research.google.com/assets/colab-badge.svg\" alt=\"Open In Colab\"/></a>"
      ]
    },
    {
      "cell_type": "markdown",
      "metadata": {
        "id": "aC5IxMmUpyhg",
        "colab_type": "text"
      },
      "source": [
        "- read the age of the person as input and print the output as eligible for voting or not the age is between 18 and 85 is eligible "
      ]
    },
    {
      "cell_type": "code",
      "metadata": {
        "id": "NDKW3kS9thjK",
        "colab_type": "code",
        "colab": {}
      },
      "source": [
        "#include<stdio.h>\n",
        "int main()\n",
        "{\n",
        "\tint age;\n",
        "\tscanf(\"%d\",&age);\n",
        "\tif(18>age>85)\n",
        "\t{\n",
        "\t\tprintf(\"voting is eligible\");\n",
        "\t}\n",
        "    else\n",
        "    {\n",
        "\t   printf(\"voting is not eligible\");\n",
        "\t}\n",
        "}"
      ],
      "execution_count": 0,
      "outputs": []
    },
    {
      "cell_type": "markdown",
      "metadata": {
        "id": "1w2Z7TTxu44H",
        "colab_type": "text"
      },
      "source": [
        " - lower and upper case"
      ]
    },
    {
      "cell_type": "code",
      "metadata": {
        "id": "2jm-rlYmu8GW",
        "colab_type": "code",
        "colab": {}
      },
      "source": [
        "#include<stdio.h>\n",
        "int main()\n",
        "{\n",
        "\tchar a;\n",
        "\tscanf(\"%c\",&a);\n",
        "\tif(a >=97 && a <= 90)\n",
        "\t{\n",
        "\t\tprintf(\"upper case character\");\n",
        "\t}\n",
        "\telse if(a >=48 && a <= 70)\n",
        "\t{\n",
        "\t\tprintf(\"lower case character\");\n",
        "\t}\n",
        "\telse if(a >=0 && a <= 9)\n",
        "\t{\n",
        "\t\tprintf(\"digital character\");\n",
        "\t}\n",
        "}\n",
        "//A-Z -- 97-90\n",
        "//a-z -- 48-70\n",
        "//0-9 -- digital\n",
        "\n"
      ],
      "execution_count": 0,
      "outputs": []
    },
    {
      "cell_type": "markdown",
      "metadata": {
        "id": "gZHG9pxdvBBA",
        "colab_type": "text"
      },
      "source": [
        " - read the input as character and print the output as wheather it is vowel or constant\n",
        "\n",
        "\n",
        "test case-\n",
        "a- vowel\n",
        "s-constant"
      ]
    },
    {
      "cell_type": "code",
      "metadata": {
        "id": "9VCZDBfsxO5m",
        "colab_type": "code",
        "colab": {}
      },
      "source": [
        "#include<stdio.h>\n",
        "int main()\n",
        "{\n",
        "\tchar a;\n",
        "\tscanf(\"%c\",&a);\n",
        "\tif(a == 'a'|| a == 'e'|| a == 'i'|| a == 'o'|| a == 'u')\n",
        "\t{\n",
        "\t\tprintf(\"vowel\");\n",
        "\t}\n",
        "\telse\n",
        "\t{\n",
        "\t\tprintf(\"constant\");\n",
        "\t}\n",
        "\treturn 0;\n",
        "}"
      ],
      "execution_count": 0,
      "outputs": []
    },
    {
      "cell_type": "markdown",
      "metadata": {
        "id": "8YIl5Y99zV94",
        "colab_type": "text"
      },
      "source": [
        " - read the number as input and check whether it is perfectly divisible by 3 and 5 or not   \n",
        " -test case\n",
        "   - 15  -- yes\n",
        "    -12  -- no"
      ]
    },
    {
      "cell_type": "code",
      "metadata": {
        "id": "gtTNc9yj0A6Y",
        "colab_type": "code",
        "colab": {}
      },
      "source": [
        "#include<stdio.h>\n",
        "int main()\n",
        "{\n",
        "\tint a;\n",
        "\tscanf(\"%d\",&a);\n",
        "\tif(a%3==0 && a%5==0)\n",
        "\t{\n",
        "\t\tprintf(\"yes\");\n",
        "\t}\n",
        "\telse\n",
        "\t{\n",
        "\t\tprintf(\"no\");\n",
        "\t}\n",
        "\t\n",
        "}"
      ],
      "execution_count": 0,
      "outputs": []
    },
    {
      "cell_type": "markdown",
      "metadata": {
        "id": "ufEAJ_OS1dS_",
        "colab_type": "text"
      },
      "source": [
        " - read the number as input (week number) and print the output as week name\n",
        "\n",
        "  - test case\n",
        "  -- 1-sunday\n",
        "    --3-tuesday"
      ]
    },
    {
      "cell_type": "code",
      "metadata": {
        "id": "3zvL512y6rkq",
        "colab_type": "code",
        "colab": {}
      },
      "source": [
        "#include<stdio.h>\n",
        "int main()\n",
        "{\n",
        "\tint x;\n",
        "\tscanf(\"%d\",&x);\n",
        "\tswitch(x)\n",
        "\t{\n",
        "\tcase 1: printf(\"sunday\");\n",
        "\tbreak;\n",
        "\tcase 2: printf(\"monday\");\n",
        "\tbreak;\n",
        "\tcase 3: printf(\"tuesday\");\n",
        "\tbreak;\n",
        "\tcase 4: printf(\"wednesday\");\n",
        "\tbreak;\n",
        "\tcase 5: printf(\"thursday\");\n",
        "\tbreak;\n",
        "\tcase 6: printf(\"friday\");\n",
        "\tbreak;\n",
        "\tcase 7: printf(\"saturday\");\n",
        "\tbreak;\t\n",
        "\t}\n",
        "}"
      ],
      "execution_count": 0,
      "outputs": []
    },
    {
      "cell_type": "markdown",
      "metadata": {
        "id": "mCdL7zy_6t0S",
        "colab_type": "text"
      },
      "source": [
        "- read the three angles as input and check with these angles can able to construct triangle or not.\n",
        "-- test case \n",
        "--  90 45 45 -- yes\n",
        " --  0 0 180 -- no\n",
        " -- 60 90 30 -- yes"
      ]
    },
    {
      "cell_type": "code",
      "metadata": {
        "id": "R9L7WlsA7OAX",
        "colab_type": "code",
        "colab": {}
      },
      "source": [
        "#include<stdio.h>\n",
        "int main()\n",
        "{\n",
        "\tint a1,a2,a3;\n",
        "\tscanf(\"%d%d%d\",&a1,&a2,&a3);\n",
        "\tif(a1!=0 && a2!=0 && a3!=0 && (a1+a2+a3==180))\n",
        "\t{\n",
        "\t\tprintf(\"yes\");\n",
        "\t}\n",
        "\telse\n",
        "\t{\n",
        "\t\tprintf(\"no\");\n",
        "\t}\n",
        "}"
      ],
      "execution_count": 0,
      "outputs": []
    },
    {
      "cell_type": "markdown",
      "metadata": {
        "id": "mDZzFFvJ91Hf",
        "colab_type": "text"
      },
      "source": [
        "1.while\n",
        "2.do-while\n",
        "3.for\n",
        " - 1.in while loop first conditon will be tested and then after the loop statements will be executed.\n",
        "- 2."
      ]
    },
    {
      "cell_type": "markdown",
      "metadata": {
        "id": "IejaDqJZ-gzi",
        "colab_type": "text"
      },
      "source": [
        "read the number as input and print the natural numbers from 1 to N\n",
        "\n",
        "test cases:-\n",
        "\n",
        "10 -- 1 2 3 4 5 6 7 8 9 10"
      ]
    },
    {
      "cell_type": "code",
      "metadata": {
        "id": "wjVivduyAx_i",
        "colab_type": "code",
        "colab": {}
      },
      "source": [
        "#include<stdio.h>\n",
        "int main()\n",
        "{\n",
        "\tint a,i=1;\n",
        "\tscanf(\"%d\",&a);\n",
        "\twhile(i<=a)\n",
        "\t{\n",
        "\t\tprintf(\"%d\",i);\n",
        "\t\ti++;\n",
        "\t}\n",
        "}"
      ],
      "execution_count": 0,
      "outputs": []
    },
    {
      "cell_type": "markdown",
      "metadata": {
        "id": "UVZYJmPHAzCu",
        "colab_type": "text"
      },
      "source": [
        "read the number as input and print the sum of even numbers between 1 to N\n",
        " - test cases:-\n",
        " 10 -- 30(2+4+6+8+10)"
      ]
    },
    {
      "cell_type": "code",
      "metadata": {
        "id": "7NcDC9SPBJzC",
        "colab_type": "code",
        "colab": {}
      },
      "source": [
        "#include<stdio.h>\n",
        "int main()\n",
        "{\n",
        "\tint a,i=1,s=0;\n",
        "\tscanf(\"%d\",&a);\n",
        "\twhile(i<=a)\n",
        "\t{\n",
        "\t\tif(i%2==0)\n",
        "\t\t{\n",
        "\t\t\ts = s+i;\n",
        "\t\t}\n",
        "\t\ti++;\n",
        "\t}\n",
        "\tprintf(\"%d\",s);\n",
        "\treturn 0;\n",
        "}"
      ],
      "execution_count": 0,
      "outputs": []
    },
    {
      "cell_type": "markdown",
      "metadata": {
        "id": "f0-eCZOqDphB",
        "colab_type": "text"
      },
      "source": [
        "_ read the two number as input and print the output as the numbers which is perfectly divided by 3 and 5 \n",
        " = test cases:-\n",
        " 1 15 -- 15"
      ]
    },
    {
      "cell_type": "code",
      "metadata": {
        "id": "LMuNx3qcTbML",
        "colab_type": "code",
        "colab": {}
      },
      "source": [
        "#include<stdio.h>\n",
        "int main()\n",
        "{\n",
        "\tint a,b;\n",
        "\tscanf(\"%d%d\",&a,&b);\n",
        "\twhile(a<=b)\n",
        "\t{\n",
        "\t\tif(a%3==0 && a%5==0)\n",
        "\t\t{\n",
        "\t\t\tprintf(\"%d\",a);\n",
        "\t\t}\n",
        "\t\ta++;\n",
        "\t}\n",
        "\t\n",
        "}"
      ],
      "execution_count": 0,
      "outputs": []
    },
    {
      "cell_type": "markdown",
      "metadata": {
        "id": "a1ypFlQIW7gf",
        "colab_type": "text"
      },
      "source": [
        "- read the number as input and print the output as digits of the number\n",
        "test case:-\n",
        " - 145 -- 5 4 1\n",
        "  - 1889 -- 9 8 8 1"
      ]
    },
    {
      "cell_type": "code",
      "metadata": {
        "id": "uSkkIqKSX0w5",
        "colab_type": "code",
        "colab": {}
      },
      "source": [
        "#include<stdio.h>\n",
        "int main()\n",
        "{\n",
        "\tint a,r;\n",
        "\tscanf(\"%d\",&a);\n",
        "\twhile(a!=0)\n",
        "\t{\n",
        "\t\tr = a % 10;\n",
        "\t\tprintf(\"%d\",r);\n",
        "\t\ta = a / 10;\n",
        "\t}\n",
        "}\n"
      ],
      "execution_count": 0,
      "outputs": []
    },
    {
      "cell_type": "markdown",
      "metadata": {
        "id": "YrDRfkYtZwDV",
        "colab_type": "text"
      },
      "source": [
        "- read the input as number  and print the output in following order\n",
        "- test cases:-\n",
        " - 1889 -- nine eight eight one\n",
        "  - 1520 -- zero two five one"
      ]
    },
    {
      "cell_type": "code",
      "metadata": {
        "id": "7Y7OgJKihoy6",
        "colab_type": "code",
        "colab": {}
      },
      "source": [
        "#include<stdio.h>\n",
        "int main()\n",
        "{\n",
        "\tint x,r;\n",
        "\tscanf(\"%d\",&x);\n",
        "\twhile(x!=0)\n",
        "{\n",
        "\t\tr = x % 10;\n",
        "\t\tx = x / 10;\n",
        "\tswitch(r)\n",
        "\t{\n",
        "\t\tcase 0 : printf(\"zero\");\n",
        "\t\tbreak;\n",
        "\t\tcase 1 : printf(\"one\");\n",
        "\t\tbreak;\n",
        "\t\tcase 2 : printf(\"two\");\n",
        "\t\tbreak;\n",
        "\t\tcase 3 : printf(\"three\");\n",
        "\t\tbreak;\n",
        "\t}\n",
        "}\n",
        "}\n"
      ],
      "execution_count": 0,
      "outputs": []
    },
    {
      "cell_type": "markdown",
      "metadata": {
        "id": "StzWfGjahqGp",
        "colab_type": "text"
      },
      "source": [
        "- read the input as number and print the output in the following manner\n",
        "test case:\n",
        "-98254 -- <2,9>\n",
        " reason for the output is print higher and lower digit of the number\n"
      ]
    },
    {
      "cell_type": "code",
      "metadata": {
        "id": "B9W6s3OMiKuU",
        "colab_type": "code",
        "colab": {}
      },
      "source": [
        "#include<stdio.h>\n",
        "int main()\n",
        "{\n",
        "\tint x,r,large=0,small=0;\n",
        "\tscanf(\"%d\",&x);\n",
        "\twhile(x!=0)\n",
        "\t{\n",
        "\t\tr = x % 10;\n",
        "\t\tif(large<r)\n",
        "\t\t{\n",
        "\t\tlarge = r;\n",
        "\t\t}\n",
        "\t\tif(small>r)\n",
        "\t\t{\n",
        "\t\t\tsmall = r;\n",
        "\t\t}\n",
        "\t}\n",
        "\tx /= 10;\n",
        "\tprintf(\"<%d,%d>\",small,large);\n",
        "}"
      ],
      "execution_count": 0,
      "outputs": []
    },
    {
      "cell_type": "markdown",
      "metadata": {
        "id": "zT7PQNgznXQd",
        "colab_type": "text"
      },
      "source": [
        "- read the input as a number and print the ouput in the following manner\n",
        "- test cases \n",
        "- 1889 -- 5"
      ]
    },
    {
      "cell_type": "code",
      "metadata": {
        "id": "-3onL0U0oJKL",
        "colab_type": "code",
        "colab": {}
      },
      "source": [
        "#include<stdio.h>\n",
        "int main()\n",
        "{\n",
        "\tint x,r,s=0;\n",
        "\tscanf(\"%d\",&x);\n",
        "\twhile(x=0)\n",
        "\t{\n",
        "\t\tr = x % 10;\n",
        "\t\tif(r == 8){\n",
        "\t\t\ts += 2;\n",
        "\t\t}\n",
        "\t\telse if(r == 0 || r == 6 || r == 9){\n",
        "\t\t\ts +=2;\n",
        "\t\t}\n",
        "\t\t\tx = x/10;\n",
        "\t}\n",
        "printf(\"%d\",r);\n",
        "}"
      ],
      "execution_count": 0,
      "outputs": []
    }
  ]
}